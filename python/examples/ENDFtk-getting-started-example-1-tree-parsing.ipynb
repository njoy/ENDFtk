{
 "cells": [
  {
   "cell_type": "markdown",
   "id": "a6a66f36",
   "metadata": {},
   "source": [
    "# Opening, navigating and parsing pieces of an ENDF file \n",
    "## Overview\n",
    "An ENDF tape contains a lot of information. Older ENDF tapes even contained the data for multiple materials. In most cases, users are only interested in small pieces of the full tape and so it is not very efficient to parse the entire ENDF tape when accessing the file. As a result, `ENDFtk` provides a tree based view into the ENDF file that allows a user to navigate to the specific parts of the ENDF file before parsing the data.\n",
    "\n",
    "An ENDF tape can be read into this tree structure as follows:"
   ]
  },
  {
   "cell_type": "code",
   "execution_count": 1,
   "id": "15597721",
   "metadata": {},
   "outputs": [],
   "source": [
    "import ENDFtk\n",
    "\n",
    "tape = ENDFtk.tree.Tape.from_file( 'resources/n-Pu239.endf' )"
   ]
  },
  {
   "cell_type": "markdown",
   "id": "d162f171",
   "metadata": {},
   "source": [
    "An `ENDFtk.tree.Tape` effectively indexes the file into available materials, files and sections, which can be parsed at will by the user. The `ENDFtk.tree` submodule also provides an `ENDFtk.tree.Material`, `ENDFtk.tree.File` and `ENDFtk.tree.Section` that the user can look through before parsing the data that is contained in any of these. Parsing the data requires strict adherence to the ENDF-6 format but loading the data into an `ENDFtk.tree.Tape` does not. As a result, the `ENDFtk.tree.Tape` is also capable of indexing older ENDF files that do not conform with the ENDF-6 standard (tests have shown that we can index files as old as ENDF/B-II).\n",
    "\n",
    "Once the data is indexed into an `ENDFtk.tree.Tape` object, a user can retrieve specific pieces from the tape (entire materials, files or sections) as follows:"
   ]
  },
  {
   "cell_type": "code",
   "execution_count": 2,
   "id": "301e7a4b",
   "metadata": {},
   "outputs": [],
   "source": [
    "material = tape.material( 9437 )\n",
    "file = tape.material( 9437 ).file( 3 )\n",
    "section = tape.material( 9437 ).file( 3 ).section( 18 )\n",
    "section = tape.material( 9437 ).section( 3, 18 )"
   ]
  },
  {
   "cell_type": "markdown",
   "id": "15cbfd64",
   "metadata": {},
   "source": [
    "`ENDFtk` also provides an interface that emulates the ENDF nomenclature traditionally used for ENDF files (we will refer to this as 'ENDF speak'). Within `ENDFtk`, we have strived to provide both this ENDF speak interface as well as a more human readable interface. The following piece of code achieves the same results as the previous piece of code, but does so using the traditional ENDF speak:"
   ]
  },
  {
   "cell_type": "code",
   "execution_count": 3,
   "id": "a66612d9",
   "metadata": {},
   "outputs": [],
   "source": [
    "material = tape.MAT( 9437 )\n",
    "file = tape.MAT( 9437 ).MF( 3 )\n",
    "section = tape.MAT( 9437 ).MF( 3 ).MT( 18 )\n",
    "section = tape.MAT( 9437 ).MFMT( 3, 18 )"
   ]
  },
  {
   "cell_type": "markdown",
   "id": "26220557",
   "metadata": {},
   "source": [
    "A user can also interrogate these objects to see if specific materials, files and sections are present:"
   ]
  },
  {
   "cell_type": "code",
   "execution_count": 4,
   "id": "ea5dcd7e",
   "metadata": {},
   "outputs": [
    {
     "name": "stdout",
     "output_type": "stream",
     "text": [
      "True\n",
      "True\n",
      "True\n",
      "False\n",
      "True\n"
     ]
    }
   ],
   "source": [
    "print( tape.has_material( 9437 ) )\n",
    "print( material.has_file( 3 ) )\n",
    "print( material.has_section( 3, 102 ) )\n",
    "print( material.has_section( 3, 650 ) ) # MF3 MT650 is not in the cross section data\n",
    "print( file.has_section( 102 ) )"
   ]
  },
  {
   "cell_type": "markdown",
   "id": "f7b2e903",
   "metadata": {},
   "source": [
    "This is only one of the ways a user can navigate over a tree. The various components of the tree also allow a user to retrieve all materials, files and sections, which a user can then loop over if desired:"
   ]
  },
  {
   "cell_type": "code",
   "execution_count": 5,
   "id": "563d5490",
   "metadata": {},
   "outputs": [],
   "source": [
    "count = 0\n",
    "for material in tape.materials :\n",
    "    \n",
    "    for file in material.files :\n",
    "        \n",
    "        for section in file.sections :\n",
    "            \n",
    "            count += 1"
   ]
  },
  {
   "cell_type": "markdown",
   "id": "331173ca",
   "metadata": {},
   "source": [
    "At this point, the objects retrieved from the ENDF tree are still unparsed objects. To parse these pieces of the ENDF file, we simply have to call the `parse()` function on these objects:"
   ]
  },
  {
   "cell_type": "code",
   "execution_count": 6,
   "id": "faa05f80",
   "metadata": {},
   "outputs": [],
   "source": [
    "material = tape.material( 9437 ).parse()\n",
    "file = tape.material( 9437 ).file( 3 ).parse()\n",
    "section = tape.material( 9437 ).file( 3 ).section( 18 ).parse()\n",
    "section = tape.material( 9437 ).section( 3, 18 ).parse()"
   ]
  },
  {
   "cell_type": "markdown",
   "id": "81c2fd5b",
   "metadata": {},
   "source": [
    "Accessing the underlying files and sections from parsed materials and files uses the same function names as the tree components to make the interface as intuitive as possible. In this case, because the parent objects are already parsed, there is no need to parse the resulting object:"
   ]
  },
  {
   "cell_type": "code",
   "execution_count": 7,
   "id": "c1eb83e7",
   "metadata": {},
   "outputs": [],
   "source": [
    "material = tape.material( 9437 ).parse()\n",
    "file = material.file( 3 )\n",
    "section = file.section( 18 )\n",
    "section = material.section( 3, 18 )"
   ]
  },
  {
   "cell_type": "markdown",
   "id": "5efdd4a9",
   "metadata": {},
   "source": [
    "## Application 1: printing an overview of the content of an ENDF tape\n",
    "With the functionality presented above, we can now develop a simple tool that prints out an overview of the content of an entire ENDF tape along with the total number of lines for each section. The code given below will loop over all materials, files and sections and give a rough overview of the content of an ENDF tape."
   ]
  },
  {
   "cell_type": "code",
   "execution_count": 8,
   "id": "56c29550",
   "metadata": {},
   "outputs": [
    {
     "name": "stdout",
     "output_type": "stream",
     "text": [
      "Material 9437\n",
      "  File  1\n",
      "    Section 451,  1367 lines\n",
      "    Section 452,   912 lines\n",
      "    Section 455,     7 lines\n",
      "    Section 456,   912 lines\n",
      "    Section 458,    11 lines\n",
      "    Section 460, 244001 lines\n",
      "  File  2\n",
      "    Section 151,  1445 lines\n",
      "  File  3\n",
      "    Section   1, 24021 lines\n",
      "    Section   2, 24021 lines\n",
      "    Section   4,   144 lines\n",
      "    Section  16,    45 lines\n",
      "    Section  17,    23 lines\n",
      "    Section  18, 24021 lines\n",
      "    Section  19, 24021 lines\n",
      "    Section  20,    49 lines\n",
      "    Section  21,    33 lines\n",
      "    Section  37,     7 lines\n",
      "    Section  38,    16 lines\n",
      "    Section  51,   144 lines\n",
      "    Section  52,   126 lines\n",
      "    Section  53,   124 lines\n",
      "    Section  54,   119 lines\n",
      "    Section  55,   117 lines\n",
      "    Section  56,   113 lines\n",
      "    Section  57,   111 lines\n",
      "    Section  58,   109 lines\n",
      "    Section  59,   106 lines\n",
      "    Section  60,   104 lines\n",
      "    Section  61,   103 lines\n",
      "    Section  62,   102 lines\n",
      "    Section  63,   101 lines\n",
      "    Section  64,   100 lines\n",
      "    Section  65,    99 lines\n",
      "    Section  66,    98 lines\n",
      "    Section  67,    96 lines\n",
      "    Section  68,    94 lines\n",
      "    Section  69,    86 lines\n",
      "    Section  70,    85 lines\n",
      "    Section  71,    82 lines\n",
      "    Section  72,    81 lines\n",
      "    Section  73,    79 lines\n",
      "    Section  74,    77 lines\n",
      "    Section  75,    76 lines\n",
      "    Section  76,    74 lines\n",
      "    Section  77,    72 lines\n",
      "    Section  78,    71 lines\n",
      "    Section  79,    69 lines\n",
      "    Section  80,    67 lines\n",
      "    Section  81,    66 lines\n",
      "    Section  82,    65 lines\n",
      "    Section  83,    61 lines\n",
      "    Section  84,    59 lines\n",
      "    Section  85,    58 lines\n",
      "    Section  86,    57 lines\n",
      "    Section  87,    56 lines\n",
      "    Section  88,    54 lines\n",
      "    Section  89,    53 lines\n",
      "    Section  90,    52 lines\n",
      "    Section  91,    94 lines\n",
      "    Section 102, 24021 lines\n",
      "  File  4\n",
      "    Section   2,   111 lines\n",
      "    Section  18,     2 lines\n",
      "    Section  51,   109 lines\n",
      "    Section  52,   105 lines\n",
      "    Section  53,   103 lines\n",
      "    Section  54,   101 lines\n",
      "    Section  55,   101 lines\n",
      "    Section  56,    56 lines\n",
      "    Section  57,    97 lines\n",
      "    Section  58,    54 lines\n",
      "    Section  59,    54 lines\n",
      "    Section  60,    52 lines\n",
      "    Section  61,    52 lines\n",
      "    Section  62,    52 lines\n",
      "    Section  63,    52 lines\n",
      "    Section  64,    91 lines\n",
      "    Section  65,    50 lines\n",
      "    Section  66,    91 lines\n",
      "    Section  67,    50 lines\n",
      "    Section  68,    48 lines\n",
      "    Section  69,    85 lines\n",
      "    Section  70,    82 lines\n",
      "    Section  71,    79 lines\n",
      "    Section  72,    72 lines\n",
      "    Section  73,    72 lines\n",
      "    Section  74,    69 lines\n",
      "    Section  75,    69 lines\n",
      "    Section  76,    68 lines\n",
      "    Section  77,    68 lines\n",
      "    Section  78,    65 lines\n",
      "    Section  79,    64 lines\n",
      "    Section  80,    64 lines\n",
      "    Section  81,    60 lines\n",
      "    Section  82,    60 lines\n",
      "    Section  83,    56 lines\n",
      "    Section  84,    55 lines\n",
      "    Section  85,    52 lines\n",
      "    Section  86,    52 lines\n",
      "    Section  87,    52 lines\n",
      "    Section  88,    52 lines\n",
      "    Section  89,    52 lines\n",
      "    Section  90,    49 lines\n",
      "  File  5\n",
      "    Section  18,  4563 lines\n",
      "    Section 455,   579 lines\n",
      "  File  6\n",
      "    Section  16,   663 lines\n",
      "    Section  17,   200 lines\n",
      "    Section  37,    30 lines\n",
      "    Section  91,  1341 lines\n",
      "  File 12\n",
      "    Section   4,    65 lines\n",
      "    Section  18,     5 lines\n",
      "    Section 102,     5 lines\n",
      "    Section 460, 12413 lines\n",
      "  File 13\n",
      "    Section   3,     7 lines\n",
      "  File 14\n",
      "    Section   3,     1 lines\n",
      "    Section   4,     1 lines\n",
      "    Section  18,     1 lines\n",
      "    Section 102,     1 lines\n",
      "    Section 460,     1 lines\n",
      "  File 15\n",
      "    Section   3,   136 lines\n",
      "    Section   4,    41 lines\n",
      "    Section  18,    58 lines\n",
      "    Section 102,    56 lines\n",
      "  File 31\n",
      "    Section 452,   224 lines\n",
      "    Section 456,   224 lines\n",
      "  File 33\n",
      "    Section   1, 59196 lines\n",
      "    Section   2, 42070 lines\n",
      "    Section   4,   329 lines\n",
      "    Section  16,    62 lines\n",
      "    Section  17,    29 lines\n",
      "    Section  18, 38256 lines\n",
      "    Section  37,     6 lines\n",
      "    Section 102,  8784 lines\n",
      "  File 35\n",
      "    Section  18,  6373 lines\n"
     ]
    }
   ],
   "source": [
    "import ENDFtk\n",
    "\n",
    "filename = 'resources/n-Pu239.endf'\n",
    "\n",
    "tape = ENDFtk.tree.Tape.from_file( filename )\n",
    "for material in tape.materials :\n",
    "    \n",
    "    print( 'Material {:4}'.format( material.material_number ) )\n",
    "    for file in material.files :\n",
    "        \n",
    "        print( '  File {:2}'.format( file.file_number ) )\n",
    "        for section in file.sections :\n",
    "            \n",
    "            print( '    Section {:3}, {:5} lines'.format( section.section_number, section.NC ) )"
   ]
  },
  {
   "cell_type": "markdown",
   "id": "fd4fca41",
   "metadata": {},
   "source": [
    "## Application 2: parsing all ENDF files in a given directory structure\n",
    "In the following application, the content of a directory is analysed to retrieve all ENDF files (using the .endf extension) after which all files are fully parsed. This entire process is timed and all failures will be reported."
   ]
  },
  {
   "cell_type": "code",
   "execution_count": 9,
   "id": "f53a715b",
   "metadata": {},
   "outputs": [],
   "source": [
    "import os\n",
    "\n",
    "# a recursive function to find all files with a given extension in a directory\n",
    "def getFilesInFolder( directory, extension ) :\n",
    "\n",
    "    files = os.listdir( directory )\n",
    "    everything = list()\n",
    "\n",
    "    for entry in files :\n",
    "\n",
    "        file = os.path.join( directory, entry )\n",
    "\n",
    "        if os.path.isdir( file ) :\n",
    "\n",
    "            everything += getFilesInFolder( file, extension )\n",
    "\n",
    "        else :\n",
    "\n",
    "            everything.append( file )\n",
    "\n",
    "    return [ file for file in everything if file.endswith( extension ) ]"
   ]
  },
  {
   "cell_type": "code",
   "execution_count": 10,
   "id": "74836354",
   "metadata": {},
   "outputs": [
    {
     "name": "stdout",
     "output_type": "stream",
     "text": [
      "-------------------------\n",
      "   6 files\n",
      "   0 failed\n",
      "elapsed time = 0.912 s\n",
      "-------------------------\n"
     ]
    }
   ],
   "source": [
    "import ENDFtk\n",
    "import time\n",
    "\n",
    "path = 'resources'\n",
    "files = getFilesInFolder( path, 'endf' )\n",
    "failed = []\n",
    "\n",
    "start = time.perf_counter()\n",
    "for file in files :\n",
    "\n",
    "    try :\n",
    "\n",
    "        tape = ENDFtk.tree.Tape.from_file( file )\n",
    "        materials = [ material.parse() for material in tape.materials ]\n",
    "\n",
    "    except :\n",
    "\n",
    "        print( 'FAILED', file )\n",
    "        failed.append( file )\n",
    "\n",
    "end = time.perf_counter()\n",
    "\n",
    "print( '-------------------------' )\n",
    "print( '{:4} files'.format( len( files ) ) )\n",
    "print( '{:4} failed'.format( len( failed ) ) )\n",
    "print( 'elapsed time = {:.3} s'.format( end - start ) )\n",
    "print( '-------------------------' )"
   ]
  },
  {
   "cell_type": "code",
   "execution_count": null,
   "id": "9d108125",
   "metadata": {},
   "outputs": [],
   "source": []
  }
 ],
 "metadata": {
  "kernelspec": {
   "display_name": "Python 3",
   "language": "python",
   "name": "python3"
  },
  "language_info": {
   "codemirror_mode": {
    "name": "ipython",
    "version": 3
   },
   "file_extension": ".py",
   "mimetype": "text/x-python",
   "name": "python",
   "nbconvert_exporter": "python",
   "pygments_lexer": "ipython3",
   "version": "3.8.8"
  }
 },
 "nbformat": 4,
 "nbformat_minor": 5
}
